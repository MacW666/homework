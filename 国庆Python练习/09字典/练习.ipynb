{
 "cells": [
  {
   "cell_type": "code",
   "execution_count": 2,
   "metadata": {
    "collapsed": true
   },
   "outputs": [
    {
     "name": "stdout",
     "output_type": "stream",
     "text": [
      "125\n",
      "509\n"
     ]
    }
   ],
   "source": [
    "cache = {}\n",
    "\n",
    "def ackermann(m, n):\n",
    "    if m == 0:\n",
    "        return n+1\n",
    "    if n == 0:\n",
    "        return ackermann(m-1, 1)\n",
    "\n",
    "    if (m, n) in cache:\n",
    "        return cache[m, n]\n",
    "    else:\n",
    "        cache[m, n] = ackermann(m-1, ackermann(m, n-1))\n",
    "        return cache[m, n]\n",
    "\n",
    "print(ackermann(3, 4))\n",
    "print(ackermann(3, 6))"
   ]
  },
  {
   "cell_type": "code",
   "execution_count": 5,
   "outputs": [
    {
     "ename": "FileNotFoundError",
     "evalue": "[Errno 2] No such file or directory: 'emma.txt'",
     "output_type": "error",
     "traceback": [
      "\u001B[1;31m---------------------------------------------------------------------------\u001B[0m",
      "\u001B[1;31mFileNotFoundError\u001B[0m                         Traceback (most recent call last)",
      "Cell \u001B[1;32mIn [5], line 38\u001B[0m\n\u001B[0;32m     35\u001B[0m     \u001B[38;5;28;01mreturn\u001B[39;00m \u001B[38;5;28mopen\u001B[39m(filename)\u001B[38;5;241m.\u001B[39mread()\n\u001B[0;32m     37\u001B[0m \u001B[38;5;28;01mif\u001B[39;00m \u001B[38;5;18m__name__\u001B[39m \u001B[38;5;241m==\u001B[39m \u001B[38;5;124m'\u001B[39m\u001B[38;5;124m__main__\u001B[39m\u001B[38;5;124m'\u001B[39m:\n\u001B[1;32m---> 38\u001B[0m     string \u001B[38;5;241m=\u001B[39m \u001B[43mread_file\u001B[49m\u001B[43m(\u001B[49m\u001B[38;5;124;43m'\u001B[39;49m\u001B[38;5;124;43memma.txt\u001B[39;49m\u001B[38;5;124;43m'\u001B[39;49m\u001B[43m)\u001B[49m\n\u001B[0;32m     39\u001B[0m     letter_seq \u001B[38;5;241m=\u001B[39m most_frequent(string)\n\u001B[0;32m     40\u001B[0m     \u001B[38;5;28;01mfor\u001B[39;00m x \u001B[38;5;129;01min\u001B[39;00m letter_seq:\n",
      "Cell \u001B[1;32mIn [5], line 35\u001B[0m, in \u001B[0;36mread_file\u001B[1;34m(filename)\u001B[0m\n\u001B[0;32m     33\u001B[0m \u001B[38;5;28;01mdef\u001B[39;00m \u001B[38;5;21mread_file\u001B[39m(filename):\n\u001B[0;32m     34\u001B[0m     \u001B[38;5;124;03m\"\"\"Returns the contents of a file as a string.\"\"\"\u001B[39;00m\n\u001B[1;32m---> 35\u001B[0m     \u001B[38;5;28;01mreturn\u001B[39;00m \u001B[38;5;28;43mopen\u001B[39;49m\u001B[43m(\u001B[49m\u001B[43mfilename\u001B[49m\u001B[43m)\u001B[49m\u001B[38;5;241m.\u001B[39mread()\n",
      "\u001B[1;31mFileNotFoundError\u001B[0m: [Errno 2] No such file or directory: 'emma.txt'"
     ]
    }
   ],
   "source": [
    "from __future__ import print_function, division\n",
    "\n",
    "def most_frequent(s):\n",
    "    \"\"\"Sorts the letters in s in reverse order of frequency.\n",
    "    s: string\n",
    "    Returns: list of letters\n",
    "    \"\"\"\n",
    "    hist = make_histogram(s)\n",
    "\n",
    "    t = []\n",
    "    for x, freq in hist.items():\n",
    "        t.append((freq, x))\n",
    "\n",
    "    t.sort(reverse=True)\n",
    "\n",
    "    res = []\n",
    "    for freq, x in t:\n",
    "        res.append(x)\n",
    "\n",
    "    return res\n",
    "\n",
    "\n",
    "def make_histogram(s):\n",
    "    \"\"\"Make a map from letters to number of times they appear in s.\n",
    "    s: string\n",
    "    Returns: map from letter to frequency\n",
    "    \"\"\"\n",
    "    hist = {}\n",
    "    for x in s:\n",
    "        hist[x] = hist.get(x, 0) + 1\n",
    "    return hist\n",
    "\n",
    "def read_file(filename):\n",
    "    \"\"\"Returns the contents of a file as a string.\"\"\"\n",
    "    return open(filename).read()\n",
    "\n",
    "if __name__ == '__main__':\n",
    "    string = read_file('emma.txt')\n",
    "    letter_seq = most_frequent(string)\n",
    "    for x in letter_seq:\n",
    "        print(x)\n",
    "\n",
    "\n"
   ],
   "metadata": {
    "collapsed": false,
    "pycharm": {
     "name": "#%%\n"
    }
   }
  }
 ],
 "metadata": {
  "kernelspec": {
   "display_name": "Python 3",
   "language": "python",
   "name": "python3"
  },
  "language_info": {
   "codemirror_mode": {
    "name": "ipython",
    "version": 2
   },
   "file_extension": ".py",
   "mimetype": "text/x-python",
   "name": "python",
   "nbconvert_exporter": "python",
   "pygments_lexer": "ipython2",
   "version": "2.7.6"
  }
 },
 "nbformat": 4,
 "nbformat_minor": 0
}