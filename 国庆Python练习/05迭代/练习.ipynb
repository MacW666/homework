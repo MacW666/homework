{
 "cells": [
  {
   "cell_type": "code",
   "execution_count": 21,
   "metadata": {
    "collapsed": true,
    "pycharm": {
     "name": "#%%练习1\n"
    }
   },
   "outputs": [
    {
     "name": "stdout",
     "output_type": "stream",
     "text": [
      "a\tmysqrt(a)\tmath.sqrt(a)\tdiff\n",
      "19\t4.358902\t4.358899\t0.000003\n"
     ]
    }
   ],
   "source": [
    "import math\n",
    "def mysqrt(a):\n",
    "    x = a\n",
    "    y = 0\n",
    "    while True:\n",
    "        y = (x+a/x)/2.0\n",
    "        if abs(y-x) < 1e-2:\n",
    "            break\n",
    "        x = y\n",
    "    return y\n",
    "def test_square_root(a):\n",
    "    #制表\n",
    "    print('a\\tmysqrt(a)\\tmath.sqrt(a)\\tdiff')\n",
    "    #调用自己的函数\n",
    "    my=mysqrt(a)\n",
    "    #调用内置函数\n",
    "    mathsqrt=math.sqrt(a)\n",
    "    #整型输出%d，字符串%s，浮点数%f，保留x位小shu%.xf\n",
    "    print('%d\\t%f\\t%f\\t%f' % (a,my, mathsqrt, abs(my-mathsqrt)))\n",
    "test_square_root(19)"
   ]
  },
  {
   "cell_type": "code",
   "execution_count": 2,
   "outputs": [
    {
     "data": {
      "text/plain": "2.1666666666666665"
     },
     "execution_count": 2,
     "metadata": {},
     "output_type": "execute_result"
    }
   ],
   "source": [
    "#test\n",
    "a = 4\n",
    "x = 3\n",
    "y = (x + a/x) / 2\n",
    "y"
   ],
   "metadata": {
    "collapsed": false,
    "pycharm": {
     "name": "#%%\n"
    }
   }
  },
  {
   "cell_type": "code",
   "execution_count": 23,
   "outputs": [
    {
     "data": {
      "text/plain": "2.0"
     },
     "execution_count": 23,
     "metadata": {},
     "output_type": "execute_result"
    }
   ],
   "source": [
    "#test\n",
    "x=y\n",
    "y = (x + a/x) / 2\n",
    "y"
   ],
   "metadata": {
    "collapsed": false,
    "pycharm": {
     "name": "#%%\n"
    }
   }
  },
  {
   "cell_type": "code",
   "execution_count": 36,
   "outputs": [
    {
     "ename": "SyntaxError",
     "evalue": "unexpected EOF while parsing (<string>, line 0)",
     "output_type": "error",
     "traceback": [
      "Traceback \u001B[1;36m(most recent call last)\u001B[0m:\n",
      "\u001B[0m  File \u001B[0;32mD:\\Users\\wx\\PycharmProjects\\pythonProject\\venv\\lib\\site-packages\\IPython\\core\\interactiveshell.py:3378\u001B[0m in \u001B[0;35mrun_code\u001B[0m\n    exec(code_obj, self.user_global_ns, self.user_ns)\u001B[0m\n",
      "\u001B[0m  Cell \u001B[0;32mIn [36], line 8\u001B[0m\n    print(eval_loop(v))\u001B[0m\n",
      "\u001B[1;36m  Cell \u001B[1;32mIn [36], line 2\u001B[1;36m in \u001B[1;35meval_loop\u001B[1;36m\n\u001B[1;33m    return eval(s)\u001B[1;36m\n",
      "\u001B[1;36m  File \u001B[1;32m<string>\u001B[1;36m\u001B[0m\n\u001B[1;33m    \u001B[0m\n\u001B[1;37m    ^\u001B[0m\n\u001B[1;31mSyntaxError\u001B[0m\u001B[1;31m:\u001B[0m unexpected EOF while parsing\n"
     ]
    }
   ],
   "source": [
    "\n",
    "def eval_loop(s):\n",
    "    return eval(s)\n",
    "\n",
    "\n",
    "while True:\n",
    "    v = input('请输入值(必须是个数字！): \\n')\n",
    "    if v != 'done':\n",
    "        print(eval_loop(v))\n",
    "        the_last = eval_loop(v)\n",
    "    else:\n",
    "        print('the last input value is %d'%the_last)\n",
    "        break"
   ],
   "metadata": {
    "collapsed": false,
    "pycharm": {
     "name": "#%%\n"
    }
   }
  },
  {
   "cell_type": "code",
   "execution_count": 38,
   "outputs": [
    {
     "name": "stdout",
     "output_type": "stream",
     "text": [
      "3.141592653589793\n",
      "3.141592653589793\n"
     ]
    }
   ],
   "source": [
    "\n",
    "import math\n",
    "#先设计一个求阶乘函数\n",
    "def factorial(n):\n",
    "    if n == 0:\n",
    "        return 1\n",
    "    else:\n",
    "        return n*factorial(n-1)\n",
    "def estimate_pi():\n",
    "    total=float(0)\n",
    "    k=0\n",
    "    factor=2*math.sqrt(2)/9801\n",
    "    while True:\n",
    "        #分子\n",
    "        num= factorial(4*k) * (26390*k +1103)\n",
    "        #分母\n",
    "        den= factorial(k)**4 * 396**(4*k)\n",
    "        term = factor * num / den\n",
    "        #求0-正无穷的和\n",
    "        total += term\n",
    "        #term的绝对值小于这个数以后跳出循环，否则继续迭代\n",
    "        if abs(term)<1e-15:\n",
    "            break\n",
    "        k=k+1\n",
    "    return 1 / total\n",
    "print(estimate_pi())\n",
    "print(math.pi)"
   ],
   "metadata": {
    "collapsed": false,
    "pycharm": {
     "name": "#%%\n"
    }
   }
  }
 ],
 "metadata": {
  "kernelspec": {
   "display_name": "Python 3",
   "language": "python",
   "name": "python3"
  },
  "language_info": {
   "codemirror_mode": {
    "name": "ipython",
    "version": 2
   },
   "file_extension": ".py",
   "mimetype": "text/x-python",
   "name": "python",
   "nbconvert_exporter": "python",
   "pygments_lexer": "ipython2",
   "version": "2.7.6"
  }
 },
 "nbformat": 4,
 "nbformat_minor": 0
}