{
 "cells": [
  {
   "cell_type": "code",
   "execution_count": 2,
   "metadata": {
    "collapsed": true
   },
   "outputs": [
    {
     "name": "stdout",
     "output_type": "stream",
     "text": [
      "9 90\n",
      "8100\n"
     ]
    }
   ],
   "source": [
    "def b(z):\n",
    "    prod = a(z, z) #a(3,3)\n",
    "    print(z, prod) #\n",
    "    return prod\n",
    "def a(x, y):\n",
    "    x = x + 1 #1+1=2\n",
    "    return x * y #2*2=4\n",
    "def c(x, y, z):\n",
    "    total = x + y + z #1+2+\n",
    "    square = b(total)**2\n",
    "    return square\n",
    "x = 1\n",
    "y = x + 1\n",
    "print(c(x, y+3, x+y))"
   ]
  },
  {
   "cell_type": "code",
   "execution_count": 29,
   "outputs": [
    {
     "name": "stdout",
     "output_type": "stream",
     "text": [
      "125\n",
      "参数太大会报RecursionError\n"
     ]
    }
   ],
   "source": [
    "def ack(m,n):\n",
    "    \"\"\"参数太大会报RecursionError\"\"\"\n",
    "    if m==0:\n",
    "        return n+1\n",
    "    elif m>0 and n==0:\n",
    "        return ack(m-1,1)\n",
    "    elif m>0 and n>0:\n",
    "        return ack(m-1,ack(m,n-1))\n",
    "    else:\n",
    "        print('ERROR')\n",
    "\n",
    "print(ack(3,4))\n",
    "print(ack.__doc__)\n",
    "\n",
    "\n"
   ],
   "metadata": {
    "collapsed": false,
    "pycharm": {
     "name": "#%% ack函数\n"
    }
   }
  },
  {
   "cell_type": "code",
   "execution_count": 10,
   "outputs": [
    {
     "name": "stdout",
     "output_type": "stream",
     "text": [
      "True\n"
     ]
    }
   ],
   "source": [
    "def first(word):\n",
    "       return word[0]\n",
    "def last(word):\n",
    "       return word[-1]\n",
    "def middle(word):\n",
    "       return word[1:-1]\n",
    "def is_p(s):\n",
    "        if len(s)==0 or len(s)==1:\n",
    "                return True\n",
    "        if first(s)==last(s):\n",
    "                 return is_p(middle(s))\n",
    "        else:\n",
    "                return False\n",
    "print(is_p('ackca'))\n"
   ],
   "metadata": {
    "collapsed": false,
    "pycharm": {
     "name": "#%%判断回文\n"
    }
   }
  },
  {
   "cell_type": "code",
   "execution_count": 19,
   "outputs": [
    {
     "data": {
      "text/plain": "False"
     },
     "execution_count": 19,
     "metadata": {},
     "output_type": "execute_result"
    }
   ],
   "source": [
    "def is_power(a,b):\n",
    "    if a/b==1 or a/b==a:\n",
    "        return True\n",
    "    if a%b==0:\n",
    "        return is_power(a/b,b)\n",
    "    elif a%b!=0:\n",
    "        return False\n",
    "\n",
    "is_power(20,2)\n",
    "\n"
   ],
   "metadata": {
    "collapsed": false,
    "pycharm": {
     "name": "#%%练习4\n"
    }
   }
  },
  {
   "cell_type": "code",
   "execution_count": null,
   "outputs": [],
   "source": [
    "def gcd(a,b):\n",
    "    if b==0:\n",
    "        return a\n",
    "    else:\n",
    "        return gcd(b,a%b)\n",
    "\n",
    "gcd(0,11)\n"
   ],
   "metadata": {
    "collapsed": false,
    "pycharm": {
     "name": "#%%\n"
    }
   }
  }
 ],
 "metadata": {
  "kernelspec": {
   "display_name": "Python 3",
   "language": "python",
   "name": "python3"
  },
  "language_info": {
   "codemirror_mode": {
    "name": "ipython",
    "version": 2
   },
   "file_extension": ".py",
   "mimetype": "text/x-python",
   "name": "python",
   "nbconvert_exporter": "python",
   "pygments_lexer": "ipython2",
   "version": "2.7.6"
  }
 },
 "nbformat": 4,
 "nbformat_minor": 0
}