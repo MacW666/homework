{
 "cells": [
  {
   "cell_type": "code",
   "execution_count": 58,
   "metadata": {
    "collapsed": true
   },
   "outputs": [
    {
     "data": {
      "text/plain": "1665121289"
     },
     "execution_count": 58,
     "metadata": {},
     "output_type": "execute_result"
    }
   ],
   "source": [
    "import time\n",
    "t=int(time.time())\n",
    "t"
   ]
  },
  {
   "cell_type": "code",
   "execution_count": 60,
   "outputs": [
    {
     "data": {
      "text/plain": "20489"
     },
     "execution_count": 60,
     "metadata": {},
     "output_type": "execute_result"
    }
   ],
   "source": [
    "days=t//(60*60*24)\n",
    "days\n",
    "#计算今天过了多少秒\n",
    "M=t-days*(24*60*60)\n",
    "M"
   ],
   "metadata": {
    "collapsed": false,
    "pycharm": {
     "name": "#%%计算距离1970多少天\n"
    }
   }
  },
  {
   "cell_type": "code",
   "execution_count": 44,
   "outputs": [
    {
     "data": {
      "text/plain": "5"
     },
     "execution_count": 44,
     "metadata": {},
     "output_type": "execute_result"
    }
   ],
   "source": [
    "hours=M//(60*60)\n",
    "hours"
   ],
   "metadata": {
    "collapsed": false,
    "pycharm": {
     "name": "#%%计算今天过了多少小时\n"
    }
   }
  },
  {
   "cell_type": "code",
   "execution_count": 66,
   "outputs": [
    {
     "data": {
      "text/plain": "41"
     },
     "execution_count": 66,
     "metadata": {},
     "output_type": "execute_result"
    }
   ],
   "source": [
    "mintutes=(M-hours*(60*60))//60\n",
    "mintutes"
   ],
   "metadata": {
    "collapsed": false,
    "pycharm": {
     "name": "#%%计算这个小时过了多少分钟\n"
    }
   }
  },
  {
   "cell_type": "code",
   "execution_count": 67,
   "outputs": [
    {
     "data": {
      "text/plain": "29"
     },
     "execution_count": 67,
     "metadata": {},
     "output_type": "execute_result"
    }
   ],
   "source": [
    "seconds=M-hours*60*60-mintutes*60\n",
    "seconds"
   ],
   "metadata": {
    "collapsed": false,
    "pycharm": {
     "name": "#%%计算这一分钟过了多少秒\n"
    }
   }
  },
  {
   "cell_type": "code",
   "execution_count": 74,
   "outputs": [
    {
     "name": "stdout",
     "output_type": "stream",
     "text": [
      "13 时 41 分 29 秒\n"
     ]
    }
   ],
   "source": [
    "print((hours+8),'时',mintutes,'分',seconds,'秒')\n"
   ],
   "metadata": {
    "collapsed": false,
    "pycharm": {
     "name": "#%%\n"
    }
   }
  },
  {
   "cell_type": "code",
   "execution_count": 76,
   "outputs": [
    {
     "name": "stdout",
     "output_type": "stream",
     "text": [
      "13 时 54 分 47 秒\n"
     ]
    }
   ],
   "source": [
    "import time\n",
    "t=int(time.time())\n",
    "days=t//(60*60*24)\n",
    "M=t-days*(24*60*60)\n",
    "hours=M//(60*60)\n",
    "mintutes=(M-hours*(60*60))//60\n",
    "seconds=M-hours*60*60-mintutes*60\n",
    "print((hours+8),'时',mintutes,'分',seconds,'秒')"
   ],
   "metadata": {
    "collapsed": false,
    "pycharm": {
     "name": "#%%完整版\n"
    }
   }
  },
  {
   "cell_type": "code",
   "execution_count": 81,
   "outputs": [
    {
     "ename": "ValueError",
     "evalue": "invalid literal for int() with base 10: ''",
     "output_type": "error",
     "traceback": [
      "\u001B[1;31m---------------------------------------------------------------------------\u001B[0m",
      "\u001B[1;31mValueError\u001B[0m                                Traceback (most recent call last)",
      "Cell \u001B[1;32mIn [81], line 1\u001B[0m\n\u001B[1;32m----> 1\u001B[0m x \u001B[38;5;241m=\u001B[39m \u001B[38;5;28;43mint\u001B[39;49m\u001B[43m(\u001B[49m\u001B[43m \u001B[49m\u001B[38;5;28;43minput\u001B[39;49m\u001B[43m(\u001B[49m\u001B[38;5;124;43m'\u001B[39;49m\u001B[38;5;124;43mx = \u001B[39;49m\u001B[38;5;124;43m'\u001B[39;49m\u001B[43m)\u001B[49m\u001B[43m \u001B[49m\u001B[43m)\u001B[49m\n\u001B[0;32m      2\u001B[0m y \u001B[38;5;241m=\u001B[39m \u001B[38;5;28mint\u001B[39m( \u001B[38;5;28minput\u001B[39m(\u001B[38;5;124m'\u001B[39m\u001B[38;5;124my = \u001B[39m\u001B[38;5;124m'\u001B[39m) )\n\u001B[0;32m      3\u001B[0m z \u001B[38;5;241m=\u001B[39m \u001B[38;5;28mint\u001B[39m( \u001B[38;5;28minput\u001B[39m(\u001B[38;5;124m'\u001B[39m\u001B[38;5;124mz = \u001B[39m\u001B[38;5;124m'\u001B[39m) )\n",
      "\u001B[1;31mValueError\u001B[0m: invalid literal for int() with base 10: ''"
     ]
    }
   ],
   "source": [
    "x = int( input('x = ') )\n",
    "y = int( input('y = ') )\n",
    "z = int( input('z = ') )\n",
    "n = int( input('n = ') )\n",
    "\n",
    "def check_fermat(x, y, z, n):\n",
    "    if n>2 and x**n + y**n == z**n:\n",
    "        print('Holy smokes, Fermat was wrong!')\n",
    "    else:\n",
    "        print('No, that doesn’t work.')\n",
    "\n",
    "check_fermat(x, y, z, n)\n",
    "\n",
    "\n"
   ],
   "metadata": {
    "collapsed": false,
    "pycharm": {
     "name": "#%%费马大定理的验证\n"
    }
   }
  },
  {
   "cell_type": "code",
   "execution_count": 4,
   "outputs": [
    {
     "name": "stdout",
     "output_type": "stream",
     "text": [
      "请输入大于零的数字！\n"
     ]
    }
   ],
   "source": [
    "def is_triangle(a,b,c):\n",
    "    if(a>0 and b>0 and c>0):\n",
    "        if((a+b>c)and(a+c>b)and(b+c>a)):\n",
    "            print(\"Yes!\")\n",
    "        else:\n",
    "            print(\"No!\")\n",
    "    else:\n",
    "        print('请输入大于零的数字！')\n",
    "is_triangle(-3,2,3)"
   ],
   "metadata": {
    "collapsed": false,
    "pycharm": {
     "name": "#%%三角形验证\n"
    }
   }
  },
  {
   "cell_type": "code",
   "execution_count": 10,
   "outputs": [
    {
     "ename": "ValueError",
     "evalue": "invalid literal for int() with base 10: '9.2'",
     "output_type": "error",
     "traceback": [
      "\u001B[1;31m---------------------------------------------------------------------------\u001B[0m",
      "\u001B[1;31mValueError\u001B[0m                                Traceback (most recent call last)",
      "Cell \u001B[1;32mIn [10], line 10\u001B[0m\n\u001B[0;32m      8\u001B[0m         \u001B[38;5;28mprint\u001B[39m(\u001B[38;5;124m'\u001B[39m\u001B[38;5;124m请输入大于零的数字！\u001B[39m\u001B[38;5;124m'\u001B[39m)\n\u001B[0;32m      9\u001B[0m prompt\u001B[38;5;241m=\u001B[39m\u001B[38;5;124m'\u001B[39m\u001B[38;5;124m请输入a的值\u001B[39m\u001B[38;5;130;01m\\n\u001B[39;00m\u001B[38;5;124m'\u001B[39m\n\u001B[1;32m---> 10\u001B[0m a\u001B[38;5;241m=\u001B[39m\u001B[38;5;28;43mint\u001B[39;49m\u001B[43m(\u001B[49m\u001B[38;5;28;43minput\u001B[39;49m\u001B[43m(\u001B[49m\u001B[43mprompt\u001B[49m\u001B[43m)\u001B[49m\u001B[43m)\u001B[49m\n\u001B[0;32m     11\u001B[0m prompt\u001B[38;5;241m=\u001B[39m\u001B[38;5;124m'\u001B[39m\u001B[38;5;124m请输入b的值\u001B[39m\u001B[38;5;130;01m\\n\u001B[39;00m\u001B[38;5;124m'\u001B[39m\n\u001B[0;32m     12\u001B[0m b\u001B[38;5;241m=\u001B[39m\u001B[38;5;28mint\u001B[39m(\u001B[38;5;28minput\u001B[39m(prompt))\n",
      "\u001B[1;31mValueError\u001B[0m: invalid literal for int() with base 10: '9.2'"
     ]
    }
   ],
   "source": [
    "def is_triangle(a,b,c):\n",
    "    if a>0 and b>0 and c>0:\n",
    "        if(a+b>c)and(a+c>b)and(b+c>a):\n",
    "            print(\"Yes!\")\n",
    "        else:\n",
    "            print(\"No!\")\n",
    "    else:\n",
    "        print('请输入大于零的数字！')\n",
    "prompt='请输入a的值\\n'\n",
    "a=int(input(prompt))\n",
    "prompt='请输入b的值\\n'\n",
    "b=int(input(prompt))\n",
    "prompt='请输入c的值\\n'\n",
    "c=int(input(prompt))\n",
    "\n",
    "is_triangle(a,b,c)"
   ],
   "metadata": {
    "collapsed": false,
    "pycharm": {
     "name": "#%%\n"
    }
   }
  },
  {
   "cell_type": "code",
   "execution_count": 94,
   "outputs": [
    {
     "name": "stdout",
     "output_type": "stream",
     "text": [
      "6\n",
      "当n<0时，该方法将无限循环\n"
     ]
    }
   ],
   "source": [
    "def recurse(n, s):\n",
    "    \"\"\"当n<0时，该方法将无限循环\"\"\"\n",
    "    if n == 0:\n",
    "        print(s)\n",
    "    else:\n",
    "        recurse(n-1, n+s)\n",
    "recurse(3, 0)\n",
    "print(recurse.__doc__)"
   ],
   "metadata": {
    "collapsed": false,
    "pycharm": {
     "name": "#%%练习4\n"
    }
   }
  },
  {
   "cell_type": "code",
   "execution_count": 11,
   "outputs": [],
   "source": [
    "import turtle\n",
    "\n",
    "\n",
    "def koch(t, n):\n",
    "    \"\"\"这个是抄的答案\"\"\"\n",
    "    if n < 10:\n",
    "        t.fd(n)\n",
    "        return\n",
    "    m = n/3\n",
    "    koch(t, m)\n",
    "    t.lt(60)\n",
    "    koch(t, m)\n",
    "    t.rt(120)\n",
    "    koch(t, m)\n",
    "    t.lt(60)\n",
    "    koch(t, m)\n",
    "\n",
    "\n",
    "def snowflake(t, n):\n",
    "    \"\"\"Draws a snowflake (a triangle with a Koch curve for each side).\"\"\"\n",
    "    for i in range(3):\n",
    "        koch(t, n)\n",
    "        t.rt(120)\n",
    "\n",
    "\n",
    "bob = turtle.Turtle()\n",
    "\n",
    "bob.pu()\n",
    "bob.goto(-150, 90)\n",
    "bob.pd()\n",
    "snowflake(bob, 300)\n",
    "\n",
    "turtle.mainloop()"
   ],
   "metadata": {
    "collapsed": false,
    "pycharm": {
     "name": "#%%\n"
    }
   }
  },
  {
   "cell_type": "code",
   "execution_count": 15,
   "outputs": [
    {
     "name": "stdout",
     "output_type": "stream",
     "text": [
      "9\n"
     ]
    }
   ],
   "source": [],
   "metadata": {
    "collapsed": false,
    "pycharm": {
     "name": "#%%\n"
    }
   }
  }
 ],
 "metadata": {
  "kernelspec": {
   "display_name": "Python 3",
   "language": "python",
   "name": "python3"
  },
  "language_info": {
   "codemirror_mode": {
    "name": "ipython",
    "version": 2
   },
   "file_extension": ".py",
   "mimetype": "text/x-python",
   "name": "python",
   "nbconvert_exporter": "python",
   "pygments_lexer": "ipython2",
   "version": "2.7.6"
  }
 },
 "nbformat": 4,
 "nbformat_minor": 0
}