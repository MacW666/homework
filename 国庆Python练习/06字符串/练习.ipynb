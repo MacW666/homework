{
 "cells": [
  {
   "cell_type": "code",
   "execution_count": 3,
   "metadata": {
    "collapsed": true,
    "pycharm": {
     "name": "#%%练习2\n"
    }
   },
   "outputs": [
    {
     "data": {
      "text/plain": "3"
     },
     "execution_count": 3,
     "metadata": {},
     "output_type": "execute_result"
    }
   ],
   "source": [
    "word='banana'\n",
    "word.count('a')\n"
   ]
  },
  {
   "cell_type": "code",
   "execution_count": 5,
   "outputs": [
    {
     "data": {
      "text/plain": "'elttab'"
     },
     "execution_count": 5,
     "metadata": {},
     "output_type": "execute_result"
    }
   ],
   "source": [
    "def is_palindrome(words):\n",
    "    return words[::-1]\n",
    "\n",
    "is_palindrome('battle')\n",
    "\n"
   ],
   "metadata": {
    "collapsed": false,
    "pycharm": {
     "name": "#%%练习3\n"
    }
   }
  },
  {
   "cell_type": "code",
   "execution_count": 7,
   "outputs": [
    {
     "name": "stdout",
     "output_type": "stream",
     "text": [
      "x\n"
     ]
    }
   ],
   "source": [
    "def rotate_letter(letter, n):\n",
    "    \"\"\"题目没理解，这个是参考的答案\"\"\"\n",
    "    #数字部分进行位移\n",
    "    if 48<=ord(letter)<=57:\n",
    "        start2 = ord('0')\n",
    "        d=ord(letter)-start2\n",
    "        q=(d+n)%10+start2\n",
    "        return chr(q)\n",
    "    #字母部分进行位移\n",
    "    else:\n",
    "        if letter.isupper():\n",
    "            start = ord('A')\n",
    "        elif letter.islower():\n",
    "            start = ord('a')\n",
    "        else:\n",
    "            return letter\n",
    "        c = ord(letter) - start\n",
    "        i = (c + n) % 26 + start\n",
    "    return chr(i)\n",
    "def rotate_word(word,n):\n",
    "    res=''\n",
    "    for letter in word:\n",
    "       res+=rotate_letter(letter,n)\n",
    "    return res\n",
    "print(rotate_word('w',1))\n",
    "\n",
    "\n",
    "\n"
   ],
   "metadata": {
    "collapsed": false,
    "pycharm": {
     "name": "#%%练习5\n"
    }
   }
  }
 ],
 "metadata": {
  "kernelspec": {
   "display_name": "Python 3",
   "language": "python",
   "name": "python3"
  },
  "language_info": {
   "codemirror_mode": {
    "name": "ipython",
    "version": 2
   },
   "file_extension": ".py",
   "mimetype": "text/x-python",
   "name": "python",
   "nbconvert_exporter": "python",
   "pygments_lexer": "ipython2",
   "version": "2.7.6"
  }
 },
 "nbformat": 4,
 "nbformat_minor": 0
}