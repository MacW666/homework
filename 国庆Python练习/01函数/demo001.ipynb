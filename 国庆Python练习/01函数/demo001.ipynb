{
 "cells": [
  {
   "cell_type": "code",
   "execution_count": 2,
   "metadata": {
    "collapsed": true
   },
   "outputs": [
    {
     "data": {
      "text/plain": "int"
     },
     "execution_count": 2,
     "metadata": {},
     "output_type": "execute_result"
    }
   ],
   "source": [
    "type(42)\n"
   ]
  },
  {
   "cell_type": "code",
   "execution_count": 16,
   "outputs": [
    {
     "data": {
      "text/plain": "'3.1415'"
     },
     "execution_count": 16,
     "metadata": {},
     "output_type": "execute_result"
    }
   ],
   "source": [
    "#转型\n",
    "int('32')\n",
    "int(3.999)\n",
    "int(-3.5)\n",
    "\n",
    "float(32)\n",
    "float('5.3332')\n",
    "float('5')\n",
    "\n",
    "str(32)\n",
    "str(3.1415)\n"
   ],
   "metadata": {
    "collapsed": false,
    "pycharm": {
     "name": "#%%\n"
    }
   }
  },
  {
   "cell_type": "code",
   "execution_count": 5,
   "outputs": [
    {
     "data": {
      "text/plain": "0.644217687237691"
     },
     "execution_count": 5,
     "metadata": {},
     "output_type": "execute_result"
    }
   ],
   "source": [
    "#数学函数\n",
    "import math\n",
    "math\n",
    "signal_power =10\n",
    "noise_power  =6\n",
    "ratio = signal_power / noise_power\n",
    "decibels=10*math.log10(ratio)\n",
    "radians=0.7\n",
    "height=math.sin(radians)\n",
    "height"
   ],
   "metadata": {
    "collapsed": false,
    "pycharm": {
     "name": "#%%\n"
    }
   }
  },
  {
   "cell_type": "code",
   "execution_count": 35,
   "outputs": [
    {
     "name": "stdout",
     "output_type": "stream",
     "text": [
      "0.7071067811865476\n"
     ]
    },
    {
     "data": {
      "text/plain": "1440"
     },
     "execution_count": 35,
     "metadata": {},
     "output_type": "execute_result"
    }
   ],
   "source": [
    "#pi\n",
    "degrees=45\n",
    "randain=degrees/180.0*math.pi\n",
    "math.sin(randain)\n",
    "# randains\n",
    "math.sqrt(2)/2\n",
    "x=math.sin(degrees/360*2*math.pi)\n",
    "print(x)\n",
    "x=math.exp(math.log(x+1))\n",
    "\n",
    "hours=24\n",
    "minutes=hours*60\n",
    "minutes"
   ],
   "metadata": {
    "collapsed": false,
    "pycharm": {
     "name": "#%%\n"
    }
   }
  },
  {
   "cell_type": "code",
   "execution_count": 8,
   "outputs": [
    {
     "name": "stdout",
     "output_type": "stream",
     "text": [
      "nihaoBNU\n",
      "Im fine\n",
      "None\n",
      "nihaoBNU\n",
      "Im fine\n",
      "hello BNU\n",
      "hello BNU\n",
      "3.141592653589793\n",
      "3.141592653589793\n",
      "SpamSpamSpamSpam\n",
      "SpamSpamSpamSpam\n",
      "-1.0\n",
      "-1.0\n",
      "we are world,we are children\n",
      "we are world,we are children\n"
     ]
    }
   ],
   "source": [
    "#自定义函数\n",
    "def print_lyr():\n",
    "    print('nihaoBNU')\n",
    "    print('Im fine')\n",
    "print(print_lyr())\n",
    "\n",
    "def repeat_lyr():\n",
    "    print_lyr()\n",
    "\n",
    "repeat_lyr()\n",
    "\n",
    "def print_twice(bruce):\n",
    "    print(bruce)\n",
    "    print(bruce)\n",
    "print_twice('hello BNU')\n",
    "print_twice(math.pi)\n",
    "print_twice('Spam'*4)\n",
    "print_twice(math.cos(math.pi))\n",
    "MJ='we are world,we are children'\n",
    "print_twice(MJ)"
   ],
   "metadata": {
    "collapsed": false,
    "pycharm": {
     "name": "#%%\n"
    }
   }
  },
  {
   "cell_type": "code",
   "execution_count": 52,
   "outputs": [
    {
     "name": "stdout",
     "output_type": "stream",
     "text": [
      "hahahxixixi\n",
      "hahahxixixi\n"
     ]
    }
   ],
   "source": [
    "#parameter\n",
    "def bbb(p1,p2):\n",
    "    cat=p1+p2\n",
    "    print_twice(cat)\n",
    "line1='hahah'\n",
    "line2='xixixi'\n",
    "bbb(line1,line2)"
   ],
   "metadata": {
    "collapsed": false,
    "pycharm": {
     "name": "#%%\n"
    }
   }
  },
  {
   "cell_type": "code",
   "execution_count": 9,
   "outputs": [
    {
     "name": "stdout",
     "output_type": "stream",
     "text": [
      "bing\n",
      "bing\n",
      "None\n"
     ]
    }
   ],
   "source": [
    "import math\n",
    "degrees = 45\n",
    "randian = degrees / 180.0 * math.pi\n",
    "x=math.cos(randian)\n",
    "golden=(math.sqrt(5)+1)/2\n",
    "golden\n",
    "\n",
    "result=print_twice('bing')\n",
    "print(result)"
   ],
   "metadata": {
    "collapsed": false,
    "pycharm": {
     "name": "#%%fanhuizhi\n"
    }
   }
  },
  {
   "cell_type": "code",
   "execution_count": 1,
   "outputs": [
    {
     "name": "stdout",
     "output_type": "stream",
     "text": [
      "                                                                 monty\n"
     ]
    }
   ],
   "source": [
    "def right_justify(s):\n",
    "    n=len(s)\n",
    "    print(' '*(70-n)+s)\n",
    "\n",
    "right_justify('monty')\n"
   ],
   "metadata": {
    "collapsed": false,
    "pycharm": {
     "name": "#%%练习1\n"
    }
   }
  },
  {
   "cell_type": "code",
   "execution_count": 12,
   "outputs": [
    {
     "name": "stdout",
     "output_type": "stream",
     "text": [
      "spam\n",
      "spam\n",
      "==========\n",
      "spam\n",
      "spam\n",
      "spam\n",
      "spam\n"
     ]
    }
   ],
   "source": [
    "def do_twice(f,arg):\n",
    "    f(arg)\n",
    "    f(arg)\n",
    "\n",
    "def print_spam(arg):\n",
    "    print(arg)\n",
    "do_twice(print_spam,'spam')\n",
    "print('==========')\n",
    "\n",
    "def do_four(f,arg):\n",
    "    do_twice(f,arg)\n",
    "    do_twice(f,arg)\n",
    "do_four(print_spam,'spam')\n",
    "\n",
    "\n",
    "\n"
   ],
   "metadata": {
    "collapsed": false,
    "pycharm": {
     "name": "#%%练习2\n"
    }
   }
  },
  {
   "cell_type": "code",
   "execution_count": 1,
   "outputs": [
    {
     "name": "stdout",
     "output_type": "stream",
     "text": [
      "+ - - - - + - - - - + - - - - + - - - - +\n",
      "|         |         |         |         |\n",
      "|         |         |         |         |\n",
      "|         |         |         |         |\n",
      "|         |         |         |         |\n",
      "+ - - - - + - - - - + - - - - + - - - - +\n",
      "|         |         |         |         |\n",
      "|         |         |         |         |\n",
      "|         |         |         |         |\n",
      "|         |         |         |         |\n",
      "+ - - - - + - - - - + - - - - + - - - - +\n",
      "|         |         |         |         |\n",
      "|         |         |         |         |\n",
      "|         |         |         |         |\n",
      "|         |         |         |         |\n",
      "+ - - - - + - - - - + - - - - + - - - - +\n",
      "|         |         |         |         |\n",
      "|         |         |         |         |\n",
      "|         |         |         |         |\n",
      "|         |         |         |         |\n",
      "+ - - - - + - - - - + - - - - + - - - - +\n"
     ]
    }
   ],
   "source": [
    "def do_twice(f):\n",
    "    f()\n",
    "    f()\n",
    "def do_four(f):\n",
    "    do_twice(f)\n",
    "    do_twice(f)\n",
    "\n",
    "\n",
    "def print_beam():\n",
    "    print('+ - - - -', end=' ')\n",
    "\n",
    "def print_post():\n",
    "    print('|        ', end=' ')\n",
    "\n",
    "def print_beams():\n",
    "    do_four(print_beam)\n",
    "    print('+')\n",
    "\n",
    "def print_posts():\n",
    "    do_four(print_post)\n",
    "    print('|')\n",
    "\n",
    "def print_row():\n",
    "    print_beams()\n",
    "    do_four(print_posts)\n",
    "\n",
    "def print_grid():\n",
    "    do_four(print_row)\n",
    "    print_beams()\n",
    "\n",
    "print_grid()\n",
    "# print_beams()\n",
    "# print_posts()"
   ],
   "metadata": {
    "collapsed": false,
    "pycharm": {
     "name": "#%%\n"
    }
   }
  },
  {
   "cell_type": "code",
   "execution_count": 2,
   "outputs": [
    {
     "data": {
      "text/plain": "1666696565.4703383"
     },
     "execution_count": 2,
     "metadata": {},
     "output_type": "execute_result"
    }
   ],
   "source": [
    "import time\n",
    "time.time()"
   ],
   "metadata": {
    "collapsed": false,
    "pycharm": {
     "name": "#%%\n"
    }
   }
  }
 ],
 "metadata": {
  "kernelspec": {
   "display_name": "Python 3",
   "language": "python",
   "name": "python3"
  },
  "language_info": {
   "codemirror_mode": {
    "name": "ipython",
    "version": 2
   },
   "file_extension": ".py",
   "mimetype": "text/x-python",
   "name": "python",
   "nbconvert_exporter": "python",
   "pygments_lexer": "ipython2",
   "version": "2.7.6"
  }
 },
 "nbformat": 4,
 "nbformat_minor": 0
}