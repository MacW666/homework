{
 "cells": [
  {
   "cell_type": "code",
   "execution_count": 4,
   "metadata": {
    "collapsed": true,
    "pycharm": {
     "name": "#%%练习1\n"
    }
   },
   "outputs": [
    {
     "data": {
      "text/plain": "21"
     },
     "execution_count": 4,
     "metadata": {},
     "output_type": "execute_result"
    }
   ],
   "source": [
    "def nested_sum(t):\n",
    "    y=0\n",
    "    for i in t:\n",
    "        y+=sum(i)\n",
    "    return y\n",
    "\n",
    "t = [[1, 2], [3], [4, 5, 6]]\n",
    "nested_sum(t)"
   ]
  },
  {
   "cell_type": "code",
   "execution_count": 6,
   "outputs": [
    {
     "data": {
      "text/plain": "[1, 3, 6]"
     },
     "execution_count": 6,
     "metadata": {},
     "output_type": "execute_result"
    }
   ],
   "source": [
    "def cumsum(t):\n",
    "    i=0\n",
    "    s=[]\n",
    "    #遍历这个列表\n",
    "    for x in t:\n",
    "        #求和\n",
    "        i+=x\n",
    "        s.append(i)\n",
    "    return s\n",
    "\n",
    "t = [1, 2, 3]\n",
    "cumsum(t)"
   ],
   "metadata": {
    "collapsed": false,
    "pycharm": {
     "name": "#%%练习2\n"
    }
   }
  },
  {
   "cell_type": "code",
   "execution_count": 13,
   "outputs": [
    {
     "data": {
      "text/plain": "[2, 3]"
     },
     "execution_count": 13,
     "metadata": {},
     "output_type": "execute_result"
    }
   ],
   "source": [
    "def middle(t):\n",
    "    return t[1:-1]\n",
    "t = [1, 2, 3, 4]\n",
    "middle(t)\n"
   ],
   "metadata": {
    "collapsed": false,
    "pycharm": {
     "name": "#%%练习3\n"
    }
   }
  },
  {
   "cell_type": "code",
   "execution_count": 6,
   "outputs": [
    {
     "data": {
      "text/plain": "[2, 3, 4]"
     },
     "execution_count": 6,
     "metadata": {},
     "output_type": "execute_result"
    }
   ],
   "source": [
    "def chop(t):\n",
    "    del t[0]\n",
    "    del t[-1]\n",
    "    return t\n",
    "t=[1,2,3,4,5]\n",
    "chop(t)"
   ],
   "metadata": {
    "collapsed": false,
    "pycharm": {
     "name": "#%%练习4\n"
    }
   }
  },
  {
   "cell_type": "code",
   "execution_count": 20,
   "outputs": [
    {
     "data": {
      "text/plain": "False"
     },
     "execution_count": 20,
     "metadata": {},
     "output_type": "execute_result"
    }
   ],
   "source": [
    "def is_sorted(t):\n",
    "    return t == sorted(t)\n",
    "\n",
    "# t=[1,2,3]\n",
    "t=['c','d','a']\n",
    "is_sorted(t)\n"
   ],
   "metadata": {
    "collapsed": false,
    "pycharm": {
     "name": "#%%练习5\n"
    }
   }
  },
  {
   "cell_type": "code",
   "execution_count": 7,
   "outputs": [
    {
     "data": {
      "text/plain": "True"
     },
     "execution_count": 7,
     "metadata": {},
     "output_type": "execute_result"
    }
   ],
   "source": [
    "def is_anagram(word1, word2):\n",
    "    return sorted(word1) == sorted(word2)\n",
    "\n",
    "# is_anagram('happy','lucky')\n",
    "is_anagram('abc','cba')"
   ],
   "metadata": {
    "collapsed": false,
    "pycharm": {
     "name": "#%%练习6\n"
    }
   }
  },
  {
   "cell_type": "code",
   "execution_count": 24,
   "outputs": [
    {
     "name": "stdout",
     "output_type": "stream",
     "text": [
      "{1: 1, 3: 1, 9: 1, 6: 1, 2: 1, 7: 1, 4: 1}\n"
     ]
    },
    {
     "data": {
      "text/plain": "True"
     },
     "execution_count": 24,
     "metadata": {},
     "output_type": "execute_result"
    }
   ],
   "source": [
    "def has_duplicates(l):\n",
    "    #建立一个空字典\n",
    "    a={}\n",
    "    #遍历这个列表，生成一个计数字典\n",
    "    for i in l:\n",
    "        a[i]=l.count(i)\n",
    "    print(a)\n",
    "    #字典中有大于1的值说明出现不止一次，跳出循环返回F\n",
    "    for v in a.values():\n",
    "        if v>1:\n",
    "            return False\n",
    "            break\n",
    "    return True\n",
    "\n",
    "\n",
    "t=[1,3,9,6,2,7,4]\n",
    "has_duplicates(t)\n"
   ],
   "metadata": {
    "collapsed": false,
    "pycharm": {
     "name": "#%%练习7\n"
    }
   }
  },
  {
   "cell_type": "code",
   "execution_count": 161,
   "outputs": [
    {
     "name": "stdout",
     "output_type": "stream",
     "text": [
      "10000 次模拟后概率为 50.63 %\n"
     ]
    }
   ],
   "source": [
    "import random\n",
    "\n",
    "#做一个随机生成生日函数，返回一个list\n",
    "def gen():\n",
    "    t=[]\n",
    "    for i in range(23):\n",
    "        bday = random.randint(1, 365)\n",
    "        t.append(bday)\n",
    "    return t\n",
    "\n",
    "#定义一个求概率函数，形参p为循环的次数\n",
    "def probability(p):\n",
    "    n=1\n",
    "    a=0\n",
    "    while n<p:\n",
    "        #调用上一题的查重函数，参数为gen（）返回的list\n",
    "        if has_duplicates(gen()):\n",
    "            a+=1\n",
    "        n+=1\n",
    "    print(p,'次模拟后概率为',a*100/p,'%')\n",
    "\n",
    "probability(10000)"
   ],
   "metadata": {
    "collapsed": false,
    "pycharm": {
     "name": "#%%练习8\n"
    }
   }
  },
  {
   "cell_type": "code",
   "execution_count": 164,
   "outputs": [
    {
     "name": "stdout",
     "output_type": "stream",
     "text": [
      "0.029918670654296875 seconds\n",
      "42.840954542160034 seconds\n"
     ]
    }
   ],
   "source": [
    "import time\n",
    "#用append\n",
    "def app():\n",
    "    t = []\n",
    "    fin = open('words.txt')\n",
    "    for line in fin:\n",
    "        word = line.strip()\n",
    "        t.append(word)\n",
    "    return t\n",
    "\n",
    "#不用append\n",
    "def noapp():\n",
    "    t=[]\n",
    "    fin=open('words.txt')\n",
    "    for line in fin:\n",
    "        word = line.strip()\n",
    "        t=t+[word]\n",
    "    return t\n",
    "\n",
    "\n",
    "start_time = time.time()\n",
    "app()\n",
    "t=time.time()-start_time\n",
    "print(t, 'seconds')\n",
    "\n",
    "start_time = time.time()\n",
    "noapp()\n",
    "t=time.time() - start_time\n",
    "\n",
    "print(t, 'seconds')\n",
    "\"\"\"noapp每次都生成一个新的list\"\"\""
   ],
   "metadata": {
    "collapsed": false,
    "pycharm": {
     "name": "#%%\n"
    }
   }
  },
  {
   "cell_type": "code",
   "execution_count": 168,
   "outputs": [
    {
     "name": "stdout",
     "output_type": "stream",
     "text": [
      "aa in list True\n",
      "alien in list True\n",
      "allen in list False\n",
      "zymurgy in list True\n",
      "aa in list True\n",
      "alien in list True\n",
      "allen in list False\n",
      "zymurgy in list True\n"
     ]
    }
   ],
   "source": [
    "import bisect\n",
    "\"\"\"bisect 是 python 内置模块，用于有序序列的插入和查找。\n",
    "bisect，是实现 二分 (bisection) 算法 的模块，能够保持序列顺序不变的情况下对其进行 二分查找和插入，适合用于降低对冗长序列查找的时间成本。\"\"\"\n",
    "\n",
    "def make_word_list():\n",
    "    word_list=[]\n",
    "    fin=open('words.txt')\n",
    "    for line in fin:\n",
    "        word = line.strip()\n",
    "        word_list.append(word)\n",
    "    return word_list\n",
    "\n",
    "def in_bisect(word_list, word):\n",
    "    if len(word_list)==0:\n",
    "        return False\n",
    "    i=len(word_list)//2\n",
    "    if word_list[i]==word:\n",
    "        return True\n",
    "\n",
    "    if word_list[i]>word:\n",
    "        # 找前面的\n",
    "        return in_bisect(word_list[:i],word)\n",
    "    else:\n",
    "        # 找后面的\n",
    "        return in_bisect(word_list[i+1:],word)\n",
    "\n",
    "def in_bisect_cheat(word_list, word):\n",
    "    i = bisect.bisect_left(word_list, word)\n",
    "    if i == len(word_list):\n",
    "        return False\n",
    "\n",
    "    return word_list[i]==word\n",
    "\n",
    "\n",
    "if __name__ =='__main__' :\n",
    "    word_list = make_word_list()\n",
    "\n",
    "    for word in ['aa', 'alien', 'allen', 'zymurgy']:\n",
    "        print(word, 'in list', in_bisect(word_list, word))\n",
    "\n",
    "    for word in ['aa', 'alien', 'allen', 'zymurgy']:\n",
    "        print(word, 'in list', in_bisect_cheat(word_list, word))"
   ],
   "metadata": {
    "collapsed": false,
    "pycharm": {
     "name": "#%%练习10\n"
    }
   }
  },
  {
   "cell_type": "code",
   "execution_count": null,
   "outputs": [
    {
     "name": "stdout",
     "output_type": "stream",
     "text": [
      "aa aa\n",
      "aba aba\n",
      "abut tuba\n",
      "ad da\n",
      "ados soda\n",
      "aga aga\n",
      "agar raga\n",
      "agas saga\n",
      "agenes senega\n",
      "ah ha\n",
      "aha aha\n",
      "aider redia\n",
      "airts stria\n",
      "ajar raja\n",
      "ala ala\n",
      "alif fila\n",
      "alula alula\n",
      "am ma\n",
      "ama ama\n",
      "amen nema\n",
      "amis sima\n",
      "an na\n",
      "ana ana\n",
      "anger regna\n",
      "animal lamina\n",
      "animes semina\n",
      "anna anna\n",
      "anon nona\n",
      "ante etna\n",
      "are era\n",
      "ares sera\n",
      "aril lira\n",
      "arris sirra\n",
      "arum mura\n",
      "at ta\n",
      "ate eta\n",
      "ates seta\n",
      "auks skua\n",
      "ava ava\n",
      "avid diva\n",
      "avo ova\n",
      "awa awa\n",
      "ay ya\n",
      "bad dab\n",
      "bag gab\n",
      "bal lab\n",
      "bals slab\n",
      "ban nab\n",
      "bard drab\n",
      "bas sab\n",
      "bat tab\n",
      "bats stab\n",
      "bed deb\n",
      "ben neb\n",
      "bib bib\n",
      "bid dib\n",
      "big gib\n",
      "bin nib\n",
      "bins snib\n",
      "bird drib\n",
      "bis sib\n",
      "bob bob\n",
      "bog gob\n",
      "boob boob\n",
      "bos sob\n",
      "bots stob\n",
      "bows swob\n",
      "brad darb\n",
      "brag garb\n",
      "bub bub\n",
      "bud dub\n",
      "bun nub\n",
      "buns snub\n",
      "bur rub\n",
      "burd drub\n",
      "burg grub\n",
      "bus sub\n",
      "but tub\n",
      "buts stub\n",
      "cam mac\n",
      "cap pac\n",
      "cares serac\n",
      "civic civic\n",
      "cod doc\n",
      "cram marc\n",
      "cud duc\n",
      "da ad\n",
      "dab bad\n",
      "dad dad\n",
      "dag gad\n",
      "dah had\n",
      "dahs shad\n",
      "dam mad\n",
      "dap pad\n",
      "darb brad\n",
      "dart trad\n",
      "daw wad\n",
      "deb bed\n",
      "debut tubed\n",
      "decal laced\n",
      "dedal laded\n",
      "deed deed\n",
      "deem meed\n",
      "deep peed\n",
      "deeps speed\n",
      "deer reed\n",
      "dees seed\n",
      "defer refed\n",
      "degami imaged\n",
      "deified deified\n",
      "deifier reified\n",
      "deil lied\n",
      "deke eked\n",
      "deked deked\n",
      "del led\n",
      "deled deled\n",
      "delf fled\n",
      "deliver reviled\n",
      "dels sled\n",
      "demit timed\n",
      "denier reined\n",
      "denies seined\n",
      "denim mined\n",
      "denned denned\n",
      "dens sned\n",
      "depot toped\n",
      "depots stoped\n",
      "derat tared\n",
      "derats stared\n",
      "dessert tressed\n",
      "desserts stressed\n",
      "devas saved\n",
      "devil lived\n",
      "dew wed\n",
      "dewans snawed\n",
      "dewed dewed\n",
      "dexes sexed\n",
      "dial laid\n",
      "dialer relaid\n",
      "diaper repaid\n",
      "dib bid\n",
      "did did\n",
      "dig gid\n",
      "dim mid\n",
      "dinar ranid\n",
      "diols sloid\n",
      "dirts strid\n",
      "diva avid\n",
      "do od\n",
      "doc cod\n",
      "dog god\n",
      "dom mod\n",
      "don nod\n",
      "doom mood\n",
      "door rood\n",
      "dor rod\n",
      "dormin nimrod\n",
      "dorp prod\n",
      "dos sod\n",
      "dot tod\n",
      "drab bard\n",
      "drail liard\n",
      "draw ward\n",
      "drawer reward\n",
      "draws sward\n",
      "dray yard\n",
      "drib bird\n",
      "drub burd\n",
      "dual laud\n",
      "dub bud\n",
      "duc cud\n",
      "ducs scud\n",
      "dud dud\n",
      "duel leud\n",
      "duo oud\n",
      "dup pud\n",
      "dups spud\n",
      "eat tae\n",
      "edile elide\n",
      "edit tide\n",
      "eel lee\n",
      "eh he\n",
      "eke eke\n",
      "eked deke\n",
      "elide edile\n",
      "elides sedile\n",
      "em me\n",
      "eme eme\n",
      "emes seme\n",
      "emir rime\n",
      "emit time\n",
      "emits stime\n",
      "enol lone\n",
      "er re\n",
      "era are\n",
      "ere ere\n",
      "ergo ogre\n",
      "eros sore\n",
      "ervil livre\n",
      "eta ate\n",
      "etas sate\n",
      "etna ante\n",
      "eve eve\n",
      "even neve\n",
      "evil live\n",
      "eviler relive\n",
      "ewe ewe\n",
      "eye eye\n",
      "fer ref\n",
      "fila alif\n",
      "fires serif\n",
      "fled delf\n",
      "flog golf\n",
      "flow wolf\n",
      "fool loof\n",
      "gab bag\n",
      "gad dag\n",
      "gag gag\n",
      "gal lag\n",
      "gals slag\n",
      "gam mag\n",
      "gan nag\n",
      "gar rag\n",
      "garb brag\n",
      "gas sag\n",
      "gat tag\n",
      "gats stag\n",
      "gel leg\n",
      "gelder redleg\n",
      "get teg\n",
      "gib big\n",
      "gid dig\n",
      "gig gig\n",
      "gip pig\n",
      "girt trig\n",
      "gnar rang\n",
      "gnat tang\n",
      "gnats stang\n",
      "gnaws swang\n",
      "gnus sung\n",
      "gob bog\n",
      "god dog\n",
      "golf flog\n",
      "got tog\n",
      "grub burg\n",
      "gul lug\n",
      "gulp plug\n",
      "guls slug\n",
      "gum mug\n",
      "gums smug\n",
      "guns snug\n",
      "gut tug\n",
      "ha ah\n",
      "habus subah\n",
      "had dah\n",
      "hah hah\n",
      "hahs shah\n",
      "halalah halalah\n",
      "hales selah\n",
      "hallah hallah\n",
      "hap pah\n",
      "hay yah\n",
      "he eh\n",
      "hey yeh\n",
      "ho oh\n",
      "hoop pooh\n",
      "hop poh\n",
      "huh huh\n",
      "imaged degami\n",
      "is si\n",
      "it ti\n",
      "jar raj\n",
      "kaiak kaiak\n",
      "kay yak\n",
      "kayak kayak\n",
      "keek keek\n",
      "keel leek\n",
      "keels sleek\n",
      "keep peek\n",
      "keets steek\n",
      "kips spik\n",
      "knaps spank\n",
      "knar rank\n",
      "knits stink\n",
      "kook kook\n",
      "lab bal\n",
      "laced decal\n",
      "laded dedal\n",
      "lag gal\n",
      "lager regal\n",
      "laid dial\n",
      "lair rial\n",
      "lamina animal\n",
      "lap pal\n",
      "lares seral\n",
      "larum mural\n",
      "las sal\n",
      "laud dual\n",
      "led del\n",
      "lee eel\n",
      "leek keel\n",
      "leer reel\n",
      "lees seel\n",
      "leets steel\n",
      "leg gel\n",
      "leper repel\n",
      "leud duel\n",
      "level level\n",
      "lever revel\n",
      "levins snivel\n",
      "liar rail\n",
      "liard drail\n",
      "lied deil\n",
      "lin nil\n",
      "lion noil\n",
      "lira aril\n",
      "lit til\n",
      "live evil\n",
      "lived devil\n",
      "livre ervil\n",
      "lobo obol\n",
      "lone enol\n",
      "loof fool\n",
      "loom mool\n",
      "loons snool\n",
      "loop pool\n",
      "loops spool\n",
      "loot tool\n",
      "looter retool\n",
      "loots stool\n",
      "lop pol\n",
      "lotos sotol\n",
      "lug gul\n",
      "ma am\n",
      "mac cam\n",
      "macs scam\n",
      "mad dam\n",
      "madam madam\n",
      "maes seam\n",
      "mag gam\n",
      "map pam\n",
      "mar ram\n",
      "marc cram\n",
      "marcs scram\n",
      "marram marram\n",
      "mart tram\n"
     ]
    }
   ],
   "source": [
    "def reverse_pair(word_list, word):\n",
    "    #生产倒序词\n",
    "    rev_word = word[::-1]\n",
    "    #用二分法找\n",
    "    return in_bisect(word_list, rev_word)\n",
    "\n",
    "if __name__ == '__main__':\n",
    "    word_list = make_word_list()\n",
    "\n",
    "    for word in word_list:\n",
    "        if reverse_pair(word_list, word):\n",
    "            print(word, word[::-1])\n",
    "\n",
    "\n"
   ],
   "metadata": {
    "collapsed": false,
    "pycharm": {
     "name": "#%%练习11没看懂题目参考了答案\n",
     "is_executing": true
    }
   }
  },
  {
   "cell_type": "code",
   "execution_count": null,
   "outputs": [],
   "source": [],
   "metadata": {
    "collapsed": false,
    "pycharm": {
     "name": "#%%\n"
    }
   }
  }
 ],
 "metadata": {
  "kernelspec": {
   "display_name": "Python 3",
   "language": "python",
   "name": "python3"
  },
  "language_info": {
   "codemirror_mode": {
    "name": "ipython",
    "version": 2
   },
   "file_extension": ".py",
   "mimetype": "text/x-python",
   "name": "python",
   "nbconvert_exporter": "python",
   "pygments_lexer": "ipython2",
   "version": "2.7.6"
  }
 },
 "nbformat": 4,
 "nbformat_minor": 0
}